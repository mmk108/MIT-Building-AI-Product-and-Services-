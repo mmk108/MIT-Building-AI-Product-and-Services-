{
 "cells": [
  {
   "cell_type": "markdown",
   "metadata": {},
   "source": [
    "# Generative Adversarial Networks in Slanted Land\n",
    "\n",
    "**Author: Jessica Cervi**\n",
    "\n",
    "\n",
    "## Activity Overview \n",
    "\n",
    "Generative adversarial networks (GANs) are a clever way of training a generative model by framing the problem as a supervised learning problem. The GAN model architecture involves two sub-models:\n",
    "\n",
    "- Generator: to generate new plausible examples from the problem domain.\n",
    "- Discriminator: to classify examples as real (from the domain) or fake (generated).\n",
    "\n",
    "When training begins, the generator produces obviously fake data, and the discriminator quickly learns to tell that it's fake. As training progresses, the generator gets closer to producing output that can fool the discriminator.\n",
    "Finally, if the generator training goes well, the discriminator gets worse at telling the difference between real and fake. It starts to classify fake data as real, and its accuracy decreases.\n",
    "\n",
    "\n",
    "\n",
    "For this activity, we have adapted the code in [this](https://github.com/luisguiserrano/gans) GitHub repository, where you can also find a link to a YouTube video that provides useful insight on the code.\n",
    "\n",
    "In this notebook, we build a very simple pair of GANs where the data consists of 2x2 black and white images, where the images we want to generate (the faces) are backwards diagonals (\\\\). Our goal is to define a GANs that is able to distinguish a real image from a fake one.\n",
    "\n",
    "\n",
    "This assignment is designed to help you apply the machine learning algorithms you have learned using packages in `Python`. `Python` concepts, instruction, and starter code are embedded within this Jupyter Notebook to help guide you as you progress through the assignment. Remember to run the code of each code cell prior to submitting the assignment. Upon completing the assignment, we encourage you to compare your work against the solution file to perform a self-assessment.\n",
    "\n",
    "\n",
    "\n",
    "## Index:\n",
    "\n",
    "#### Week 7:    Generative Adversarial Networks in Slanted Land\n",
    "\n",
    "\n",
    "- [Part 1](#part1)-  Importing the Libraries and Defining Auxiliary Functions\n",
    "- [Part 2](#part2)-  Problem Setup\n",
    "- [Part 3](#part3)-  Generating Noise (fake) Faces\n",
    "- [Part 4](#part4)-  Defining the Probability Function\n",
    "- [Part 5](#part5)-  Defining the Discriminator\n",
    "- [Part 6](#part6)-  Defining the Generator\n",
    "- [Part 7](#part7)-  Training the Network"
   ]
  },
  {
   "cell_type": "markdown",
   "metadata": {},
   "source": [
    "## Generative Adversarial Networks in Slanted Land\n",
    "\n",
    "[Back to top](#Index:) \n",
    "\n",
    "<a id='part1'></a>\n",
    "\n",
    "### Part 1 -  Importing the Libraries and Defining Auxiliary Functions\n",
    "\n",
    "A `Python` library, or module, is a reusable collection of code defined to carry out specific tasks without writing your own code. \n",
    "\n",
    "Depending on the set of tasks you wish to accomplish, you can import as many different libraries as you wish.\n",
    "\n",
    "In the code cell below, we have imported the libraries that we will be using in this activity.\n"
   ]
  },
  {
   "cell_type": "code",
   "execution_count": 3,
   "metadata": {},
   "outputs": [],
   "source": [
    "# Imports\n",
    "\n",
    "import numpy as np #importing numpy and aliasing it as np for convenince\n",
    "from numpy import random #importing the submodule random from numpy\n",
    "from matplotlib import pyplot as plt #importing the submodule pyplot from matplotlib and aliasing that as plt\n",
    "\n",
    "\n",
    "#this line is needed to display images within a Jupyter Notebok\n",
    "%matplotlib inline "
   ]
  },
  {
   "cell_type": "markdown",
   "metadata": {},
   "source": [
    "At the beginning of your coding project, it's good practice to write any user-defined auxiliary function that you may use later in your code. This way, your code is structured and it becomes easier to read for other users.\n",
    "\n",
    "You can think of `Python` functions as a self-contained bundle of code used to carry out specific tasks. Functions can be defined for you within a library. For very specific tasks, you may need to define a function on your own. These are called user-defined functions and they have the following general structure:\n",
    "\n",
    "```Python\n",
    "def function_name(parameters):\n",
    "    \"\"\"\n",
    "    optional description of the function\n",
    "    \"\"\"\n",
    "    statement(s)\n",
    "    return\n",
    "```\n",
    "\n",
    "Where:\n",
    "\n",
    "- The keyword `def` that marks the start of the function header.\n",
    "- A function name that uniquely identifies the function. \n",
    "- Parameters through which we pass values to a function. Depending on the function, they can be optional.\n",
    "- A colon (:) that marks the end of the function header.\n",
    "- Optional documentation string (docstring) which describes what the function does.\n",
    "- One or more valid `Python` statements that make up the function body. Statements must have the same indentation level. They define the task(s) that your function is supposed to execute.\n",
    "- An optional return statement which returns a value from the function.\n",
    "\n",
    "\n",
    "#### The `view_samples` function\n",
    "\n",
    "In the code cell, we have defined the function `view_samples` used to generate and display subplots with desired characteristics. This function takes three arguments, `samples`, `m`, and `n`, where:\n",
    "\n",
    "- `samples` contains the values we wish to plot\n",
    "- `m` is the number of rows we desire to display the subplots on\n",
    "- `n` is the number of columns we desire to display the subplots on\n",
    "\n",
    "This function unpacks the values we wish to plot into the desired number of subplots and creates each one of them without axis and using the black-and-white gradient colormap."
   ]
  },
  {
   "cell_type": "code",
   "execution_count": 4,
   "metadata": {},
   "outputs": [],
   "source": [
    "##### Drawing function\n",
    "\n",
    "def view_samples(samples, m, n):\n",
    "    fig, axes = plt.subplots(figsize=(10, 10), nrows=m, ncols=n, sharey=True, sharex=True)\n",
    "    for ax, img in zip(axes.flatten(), samples):\n",
    "        ax.xaxis.set_visible(False)\n",
    "        ax.yaxis.set_visible(False)\n",
    "        im = ax.imshow(1-img.reshape((2,2)), cmap='Greys_r')  \n",
    "    return fig, axes"
   ]
  },
  {
   "cell_type": "markdown",
   "metadata": {},
   "source": [
    "[Back to top](#Index:) \n",
    "\n",
    "<a id='part2'></a>\n",
    "\n",
    "### Part 2 - Problem setup\n",
    "\n",
    "In this very simple example, we will  build a very simple pair of GANs directly in `Python` without the use of any deep learning library.\n",
    "\n",
    "As we have seen in the YouTube video, in this Slanted Land world, the characters look slightly elongated to a 45 degree angle and are represented by 2X2 black-and-white pixel screens.\n",
    "\n",
    "In the code below, we have used the function `array` to create four characters. Notice that, because each face is identified by 4 pixel, each array contains four values between 0 and 1.\n",
    "\n",
    "In the code cell below, practice modifying the definition of the **second** face from the left using the values `0.8, 0.1, 0.2, 0.9`."
   ]
  },
  {
   "cell_type": "code",
   "execution_count": 5,
   "metadata": {},
   "outputs": [],
   "source": [
    "# Examples of faces\n",
    "faces = [np.array([1,0,0,1]),\n",
    "         np.array([0.9,0.1,0.2,0.8]),\n",
    "         np.array([0.9,0.2,0.1,0.8]),\n",
    "         np.array([0.8,0.1,0.2,0.9]),\n",
    "         np.array([0.8,0.2,0.1,0.9])]\n",
    "    "
   ]
  },
  {
   "cell_type": "markdown",
   "metadata": {},
   "source": [
    "Next, we would like to visualize the faces we have just created by using the function `view_samples` that we have defined above.\n",
    "\n",
    "In the code cell below, we have decided to visualize the values generated above in one row and four columns.\n",
    "\n",
    "\n",
    "It is possible to tell real faces apart from fake ones by noticing that top-left and the bottom-right corners\n",
    "have large values because the pixels are dark, whereas the other two corners have small\n",
    "values and therefore their pixels are light. Notice that the values are not always exactly 0 and 1 because we can have noisy images.\n",
    "\n"
   ]
  },
  {
   "cell_type": "code",
   "execution_count": 6,
   "metadata": {},
   "outputs": [
    {
     "data": {
      "image/png": "[encoded data removed]",
      "text/plain": [
       "<Figure size 720x720 with 4 Axes>"
      ]
     },
     "metadata": {
      "needs_background": "light"
     },
     "output_type": "display_data"
    }
   ],
   "source": [
    "faces_view = view_samples(faces, 1, 4)"
   ]
  },
  {
   "cell_type": "markdown",
   "metadata": {},
   "source": [
    "**Question:**\n",
    "\n",
    "1) In the case where we wanted to visualize the faces on two rows and two columns, how would you need to change the values of `m` and `n` in `view_samples`? Feel free to practice your answer by modifying the code cell above.\n",
    "\n",
    "2) Suppose we generated 12 faces and we wanted to display them on four rows and three columns. What would the values of `m` and `n` be in this case?\n",
    "\n"
   ]
  },
  {
   "cell_type": "markdown",
   "metadata": {},
   "source": [
    "**CLICK ON THIS CELL TO TYPE YOUR ANSWER**\n"
   ]
  },
  {
   "cell_type": "markdown",
   "metadata": {},
   "source": [
    "[Back to top](#Index:) \n",
    "\n",
    "<a id='part3'></a>\n",
    "\n",
    "### Part 3 - Generating Noise (Fake) Faces\n",
    "\n",
    "The next section of this activity focuses on generating random images, which don't correspond to faces.\n",
    "\n",
    "In the code cell below, we have created 20 images, each one with four pixels. The function `generate_random_image` generates a random number for each one of the four pixels.\n",
    "\n",
    "\n",
    "In the code cell below, practice modifying the code so that it generates 25 random images."
   ]
  },
  {
   "cell_type": "code",
   "execution_count": 7,
   "metadata": {},
   "outputs": [],
   "source": [
    "# Examples of noisy images\n",
    "noise = [np.random.randn(2,2) for i in range(20)]\n",
    "def generate_random_image():\n",
    "    return [np.random.random(), np.random.random(), np.random.random(), np.random.random()]\n",
    "\n"
   ]
  },
  {
   "cell_type": "markdown",
   "metadata": {},
   "source": [
    "In a similar way as we did in Part 2, we use the function `view_samples` to visualize the fake faces we have generated above."
   ]
  },
  {
   "cell_type": "code",
   "execution_count": 8,
   "metadata": {},
   "outputs": [
    {
     "data": {
      "image/png": "[encoded data removed]",
      "text/plain": [
       "<Figure size 720x720 with 20 Axes>"
      ]
     },
     "metadata": {
      "needs_background": "light"
     },
     "output_type": "display_data"
    }
   ],
   "source": [
    "noise_view = view_samples(noise, 4,5)"
   ]
  },
  {
   "cell_type": "markdown",
   "metadata": {},
   "source": [
    "As you may notice, each one of the images below is a lot more noisy than the ones we have defined in Part 2, and some of them don't have  higher values on the diagonal as real faces.\n",
    "\n",
    "**Question:**\n",
    "\n",
    "Assuming you generate 25 fake images, and you wanted to display them on a 5X5 grid, how would you change the parameters in the code cell above? Feel free to test your answer by modifying the code cell above."
   ]
  },
  {
   "cell_type": "markdown",
   "metadata": {},
   "source": [
    "**CLICK ON THIS CELL TO TYPE YOUR ANSWER**"
   ]
  },
  {
   "cell_type": "markdown",
   "metadata": {},
   "source": [
    "#### Distinguishing faces from noise\n",
    "\n",
    "How can we distinguish a real face from a fake one?\n",
    "\n",
    "As a rule of thumb for this exercise, all we need to do is sum the value in the top-left and bottom-right corners and subtract  the sum of the values in the top-right and bottom-left corners.\n",
    "\n",
    "In a real face, this score will be high, whereas in a noisy image will be low.\n",
    "<img src=\"./images/face_vs_noise.png\" alt=\"Drawing\" style=\"width: 600px;\"/>\n"
   ]
  },
  {
   "cell_type": "markdown",
   "metadata": {},
   "source": [
    "[Back to top](#Index:) \n",
    "\n",
    "<a id='part4'></a>\n",
    "\n",
    "### Part 4 - Defining the Probability Function\n",
    "\n",
    "One way of calculating the probability that an image is real or fake is by making use of the sigmoid function.\n",
    "\n",
    "\n",
    "<img src=\"./images/sigmoid.png\" alt=\"Drawing\" style=\"width: 400px;\"/>\n",
    "\n",
    "As we can see from the image above, the sigmoid function takes values close to 1 when `x` is high and close to 0 when `x` is low.\n",
    "\n",
    "For example, an image with score 1 (x=1) takes a value for the sigmoid function equal to 0.73. We can interpret this as a 73% probability that the discriminator will consider this image real.\n",
    "\n",
    "In the code cell below, we have defined a function `sigmoid`, which takes as input a value `x` and evaluates it according to the mathematical definition of the function to compute the probability."
   ]
  },
  {
   "cell_type": "code",
   "execution_count": 9,
   "metadata": {},
   "outputs": [],
   "source": [
    "# The sigmoid activation function\n",
    "def sigmoid(x):\n",
    "    return np.exp(x)/(1.0+np.exp(x))"
   ]
  },
  {
   "cell_type": "markdown",
   "metadata": {},
   "source": [
    "As an exercise, in the code cell below, we call the function `sigmoid` with the value 1."
   ]
  },
  {
   "cell_type": "code",
   "execution_count": 11,
   "metadata": {},
   "outputs": [
    {
     "data": {
      "text/plain": [
       "0.7310585786300049"
      ]
     },
     "execution_count": 11,
     "metadata": {},
     "output_type": "execute_result"
    }
   ],
   "source": [
    "sigmoid(1)"
   ]
  },
  {
   "cell_type": "markdown",
   "metadata": {},
   "source": [
    "**Question:**\n",
    "\n",
    "If an image has a score of 1.5, what is the probability that the discriminator will recognize that image as real? Feel free to practice your answer by using the code cell above."
   ]
  },
  {
   "cell_type": "markdown",
   "metadata": {},
   "source": [
    "**CLICK ON THIS CELL TO TYPE YOUR ANSWER**\n",
    "\n"
   ]
  },
  {
   "cell_type": "markdown",
   "metadata": {},
   "source": [
    "[Back to top](#Index:) \n",
    "\n",
    "<a id='part5'></a>\n",
    "\n",
    "### Part 5 - Defining the Discriminator\n",
    "\n",
    "In this section, we will focus on defining the discriminator for our algorithm.\n",
    "\n",
    "The discriminator in a GAN is simply a classifier. It tries to distinguish real data from fake data created by the generator. \n",
    "\n",
    "Therefore, the discriminator training data comes from two sources:\n",
    "\n",
    "- Real data instances, such as real pictures of people. The discriminator uses these instances as positive examples during training\n",
    "- Fake data instances created by the generator. The discriminator uses these instances as negative examples during training\n",
    "\n",
    "During the discriminator training:\n",
    "\n",
    "- 1) The discriminator classifies both real data and fake data from the generator\n",
    "- 2) The discriminator loss function penalizes the discriminator for misclassifying a real instance as fake or a fake instance as real\n",
    "- 3) The discriminator updates its weights through backpropagation from the discriminator loss function through the discriminator network\n",
    "\n",
    "#### Coding the discriminator \n",
    "\n",
    "\n",
    "The code provided in the code cell below provides the complete definition for the discriminator. Note that the code starts with the keyword `class`. `Python` classes provide a means of bundling data and functionality together, which belong to the object defined by the class (in this case, `Discriminator`). \n",
    "\n",
    "We notice that because the discriminator takes data from real and fake images, we have functions to compute the error and update the weights for both cases.\n",
    "\n",
    "**NOTE: The code below can be quite advanced if you have no prior coding knowledge. For this reason, details are left out.**"
   ]
  },
  {
   "cell_type": "code",
   "execution_count": 12,
   "metadata": {},
   "outputs": [],
   "source": [
    "class Discriminator():\n",
    "    def __init__(self):\n",
    "        #self.weights = np.array([0.0 for i in range(4)])\n",
    "        #self.bias = 0.0\n",
    "        self.weights = np.array([np.random.normal() for i in range(4)])\n",
    "        self.bias = np.random.normal()\n",
    "    \n",
    "    def forward(self, x):\n",
    "        # Forward pass\n",
    "        return sigmoid(np.dot(x, self.weights) + self.bias)\n",
    "    \n",
    "    #error from real image\n",
    "    def error_from_image(self, image):\n",
    "        prediction = self.forward(image)\n",
    "        # We want the prediction to be 1, so the error is -log(prediction)\n",
    "        return -np.log(prediction)\n",
    "    \n",
    "    #derivative from real image\n",
    "    def derivatives_from_image(self, image):\n",
    "        prediction = self.forward(image)\n",
    "        derivatives_weights = -image * (1-prediction)\n",
    "        derivative_bias = -(1-prediction)\n",
    "        return derivatives_weights, derivative_bias\n",
    "    \n",
    "    #weights update from real image\n",
    "    def update_from_image(self, x):\n",
    "        ders = self.derivatives_from_image(x)\n",
    "        self.weights -= learning_rate * ders[0]\n",
    "        self.bias -= learning_rate * ders[1]\n",
    "\n",
    "    #error from fake image\n",
    "    def error_from_noise(self, noise):\n",
    "        prediction = self.forward(noise)\n",
    "        # We want the prediction to be 0, so the error is -log(1-prediction)\n",
    "        return -np.log(1-prediction)\n",
    "    \n",
    "    #derivative from fake image\n",
    "    def derivatives_from_noise(self, noise):\n",
    "        prediction = self.forward(noise)\n",
    "        derivatives_weights = noise * prediction\n",
    "        derivative_bias = prediction\n",
    "        return derivatives_weights, derivative_bias\n",
    "    \n",
    "    #weights update from fake image\n",
    "    def update_from_noise(self, noise):\n",
    "        ders = self.derivatives_from_noise(noise)\n",
    "        self.weights -= learning_rate * ders[0]\n",
    "        self.bias -= learning_rate * ders[1]"
   ]
  },
  {
   "cell_type": "markdown",
   "metadata": {},
   "source": [
    "[Back to top](#Index:) \n",
    "\n",
    "<a id='part6'></a>\n",
    "\n",
    "### Part 6 - Defining the Generator\n",
    "\n",
    "The generator part of a GAN learns to create fake data by incorporating feedback from the discriminator. It learns to make the discriminator classify its output as real.\n",
    "\n",
    "In our GAN, the generator is not directly connected to the loss that we're trying to affect. The generator loss function penalizes the generator for producing a sample that the discriminator network classifies as fake.\n",
    "\n",
    "So we train the generator with the following procedure:\n",
    "\n",
    "- 1) Generate random noise\n",
    "- 2) Produce generator output from sampled random noise\n",
    "- 3) Get discriminator \"Real\" or \"Fake\" classification for generator output\n",
    "- 4) Calculate loss from discriminator classification\n",
    "- 5) Backpropagate through both the discriminator and generator to obtain gradients\n",
    "- 6) Use gradients to change only the generator weights\n",
    "\n",
    "\n",
    "#### Coding the generator\n",
    "\n",
    "\n",
    "The code provided in the code cell below provides the complete definition for the generator. Again, note that the generator is defined as a `class`. \n",
    "\n",
    "We notice that because the generator is fed through backpropagation by the discriminator, we only have  one function to compute the error and update the weights.\n",
    "\n",
    "\n",
    "**NOTE: The code below can be quite advanced if you have no prior coding knowledge. For this reason, details are left out.**"
   ]
  },
  {
   "cell_type": "code",
   "execution_count": 13,
   "metadata": {},
   "outputs": [],
   "source": [
    "class Generator():\n",
    "    #generate random number\n",
    "    def __init__(self):\n",
    "        self.weights = np.array([np.random.normal() for i in range(4)])\n",
    "        self.biases = np.array([np.random.normal() for i in range(4)])\n",
    "\n",
    "    def forward(self, z):\n",
    "        # Forward pass\n",
    "        return sigmoid(z * self.weights + self.biases)\n",
    "\n",
    "    def error(self, z, discriminator):\n",
    "        x = self.forward(z)\n",
    "        # We want the prediction to be 0, so the error is -log(1-prediction)\n",
    "        y = discriminator.forward(x)\n",
    "        return -np.log(y)\n",
    "\n",
    "    def derivatives(self, z, discriminator):\n",
    "        discriminator_weights = discriminator.weights\n",
    "        discriminator_bias = discriminator.bias\n",
    "        x = self.forward(z)\n",
    "        y = discriminator.forward(x)\n",
    "        factor = -(1-y) * discriminator_weights * x *(1-x)\n",
    "        derivatives_weights = factor * z\n",
    "        derivative_bias = factor\n",
    "        return derivatives_weights, derivative_bias\n",
    "\n",
    "    def update(self, z, discriminator):\n",
    "        error_before = self.error(z, discriminator)\n",
    "        ders = self.derivatives(z, discriminator)\n",
    "        self.weights -= learning_rate * ders[0]\n",
    "        self.biases -= learning_rate * ders[1]\n",
    "        error_after = self.error(z, discriminator)"
   ]
  },
  {
   "cell_type": "markdown",
   "metadata": {},
   "source": [
    "[Back to top](#Index:) \n",
    "\n",
    "<a id='part7'></a>\n",
    "\n",
    "### Part 7 - Training the Network\n",
    "\n",
    "After defining the discriminator and the generator, we need to train the neural network to pick the best weights possible to generate images that the discriminator will recognize as real.\n",
    "\n",
    "We saw that the generator and the discriminator have different training processes. So how do we train the GAN as a whole?\n",
    "\n",
    "GAN training proceeds in alternating periods:\n",
    "\n",
    "- 1) The discriminator trains for one or more epochs\n",
    "- 2) The generator trains for one or more epochs\n",
    "- 3) Steps 1 and 2 are repeated to continue to train the generator and discriminator networks\n",
    "\n",
    "It is important to keep the generator constant during the discriminator training phase. As the discriminator training tries to figure out how to distinguish real data from fake data, it has to learn how to recognize the generator's flaws.\n",
    "\n",
    "Similarly, we keep the discriminator constant during the generator training phase. Otherwise, the generator would be trying to hit a moving target and might never converge.\n",
    "\n",
    "It's this back and forth that allows GANs to deal with generative problems.\n",
    "\n",
    "\n",
    "#### Coding the training process\n",
    "\n",
    "In the code cell below, we have given you the code that simulates this process. Let's try to understand it.\n",
    "\n",
    "First of all, for reproducibility of the results, we need to set a random seed by using the function `seed()` from the module `random` in `NumPy`.\n",
    "\n",
    "Next, we set the **learning rate** for our GANs. The learning rate is a hyperparameter that controls how much to change the model in response to the estimated error each time the model weights are updated. \n",
    "\n",
    "We also set the number of times we want to repeat the training process (`epochs`).\n",
    "\n",
    "Next, we define the discriminator `D` and the generator `G` for this exercise.\n",
    "\n",
    "Finally, we train the set following the steps outlined above. Notice the presence of a `for` loop. In `Python`, `for` loops are used to repeatedly execute instructions for the desired number of iterations (in this case `epochs`)."
   ]
  },
  {
   "cell_type": "code",
   "execution_count": 14,
   "metadata": {},
   "outputs": [],
   "source": [
    "# Set random seed\n",
    "np.random.seed(42)\n",
    "\n",
    "# Hyperparameters\n",
    "learning_rate = 0.01\n",
    "epochs = 1000\n",
    "\n",
    "# defining the discriminator and generator\n",
    "D = Discriminator()\n",
    "G = Generator()\n",
    "\n",
    "# For the error plot\n",
    "errors_discriminator = []\n",
    "errors_generator = []\n",
    "\n",
    "#Repeat the following instructions for the number in epochs\n",
    "for epoch in range(epochs):\n",
    "    \n",
    "    # For every real image (generated in part 2)\n",
    "    for face in faces:\n",
    "        \n",
    "        # Update the discriminator weights from the real face\n",
    "        D.update_from_image(face)\n",
    "    \n",
    "        z = random.rand()\n",
    "\n",
    "        # Calculate the discriminator error\n",
    "        errors_discriminator.append(sum(D.error_from_image(face) + D.error_from_noise(z)))\n",
    "        \n",
    "        # Calculate the generator error\n",
    "        errors_generator.append(G.error(z, D))\n",
    "        \n",
    "        noise = G.forward(z)\n",
    "        \n",
    "        # Update the discriminator weights from the fake face\n",
    "        D.update_from_noise(noise)\n",
    "    \n",
    "        # Update the generator weights from the fake face\n",
    "        G.update(z, D)"
   ]
  },
  {
   "cell_type": "markdown",
   "metadata": {},
   "source": [
    "Practice modifying the code above by changing the `lerning_rate` to `0.05`."
   ]
  },
  {
   "cell_type": "markdown",
   "metadata": {},
   "source": [
    "**Question:**\n",
    "\n",
    "Choosing a proper value for the learning rate can be challenging. What do you expect to happen to the training process if you choose a value that is too large or too small?"
   ]
  },
  {
   "cell_type": "markdown",
   "metadata": {},
   "source": [
    "**CLICK ON THIS CELL TO TYPE YOUR ANSWER**\n"
   ]
  },
  {
   "cell_type": "markdown",
   "metadata": {},
   "source": [
    "### Plotting the Error Functions\n",
    "\n",
    "In the code cell below, we plot the generator and discriminator error functions.\n",
    "\n",
    "The first part of the code plots the values stored in the variable `errors_generator` using the library `matplotlib`. The second part of the code plots the error values for the discriminator."
   ]
  },
  {
   "cell_type": "code",
   "execution_count": 15,
   "metadata": {
    "scrolled": true
   },
   "outputs": [
    {
     "data": {
      "image/png": "[encoded data removed]",
      "text/plain": [
       "<Figure size 432x288 with 1 Axes>"
      ]
     },
     "metadata": {
      "needs_background": "light"
     },
     "output_type": "display_data"
    },
    {
     "data": {
      "text/plain": [
       "<matplotlib.legend.Legend at 0x1207ab400>"
      ]
     },
     "execution_count": 15,
     "metadata": {},
     "output_type": "execute_result"
    },
    {
     "data": {
      "image/png": "[encoded data removed]",
      "text/plain": [
       "<Figure size 432x288 with 1 Axes>"
      ]
     },
     "metadata": {
      "needs_background": "light"
     },
     "output_type": "display_data"
    }
   ],
   "source": [
    "#Plotting the errors in the generator\n",
    "plt.plot(errors_generator)\n",
    "#Setting plot title\n",
    "plt.title(\"Generator error function\")\n",
    "#Setting legend\n",
    "plt.legend(\"g\")\n",
    "plt.show()\n",
    "\n",
    "\n",
    "#Plotting the errors in the discriminator\n",
    "plt.plot(errors_discriminator)\n",
    "#Setting plot title\n",
    "plt.title(\"Discriminator error function\")\n",
    "#Setting legend\n",
    "plt.legend('d')"
   ]
  },
  {
   "cell_type": "markdown",
   "metadata": {},
   "source": [
    "**Question**\n",
    "\n",
    "Practice modifying the code above by setting the `learning_rate` equal to `0.05` and train your model again.\n",
    "\n",
    "Although this change may seem small compared to its original value, what changes do you observe in the plots of the errors for the generator and the discriminator?"
   ]
  },
  {
   "cell_type": "markdown",
   "metadata": {},
   "source": [
    "**CLICK ON THIS CELL TO TYPE YOUR ANSWER**"
   ]
  },
  {
   "cell_type": "markdown",
   "metadata": {},
   "source": [
    "**Question**\n",
    "\n",
    "Practice modifying the code above by setting the `learning_rate` equal to `0.07` and train your model again.\n",
    "\n",
    "What changes do you observe in the plots of the discriminator errors compared to the values we had when the learning rate was equal to 0.05?"
   ]
  },
  {
   "cell_type": "markdown",
   "metadata": {},
   "source": [
    "**CLICK ON THIS CELL TO TYPE YOUR ANSWER**"
   ]
  },
  {
   "cell_type": "markdown",
   "metadata": {},
   "source": [
    "**Question**\n",
    "\n",
    "Practice modifying the code above by increasing both the `learning_rate` to `0.07` and `epochs` to `10000`. Train  your model again and plot the results. What do you observe?"
   ]
  },
  {
   "cell_type": "markdown",
   "metadata": {},
   "source": [
    "**CLICK ON THIS CELL TO TYPE YOUR ANSWER**"
   ]
  },
  {
   "cell_type": "code",
   "execution_count": null,
   "metadata": {},
   "outputs": [],
   "source": []
  }
 ],
 "metadata": {
  "kernelspec": {
   "display_name": "Python 3",
   "language": "python",
   "name": "python3"
  },
  "language_info": {
   "codemirror_mode": {
    "name": "ipython",
    "version": 3
   },
   "file_extension": ".py",
   "mimetype": "text/x-python",
   "name": "python",
   "nbconvert_exporter": "python",
   "pygments_lexer": "ipython3",
   "version": "3.7.4"
  }
 },
 "nbformat": 4,
 "nbformat_minor": 4
}
