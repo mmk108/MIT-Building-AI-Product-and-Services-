{
 "cells": [
  {
   "cell_type": "markdown",
   "metadata": {},
   "source": [
    "# Autoencoders in Python\n",
    "\n",
    "**Jessica Cervi**"
   ]
  },
  {
   "cell_type": "markdown",
   "metadata": {},
   "source": [
    "## Activity Overview \n",
    "\n",
    "An autoencoder is an unsupervised machine learning algorithm that, for example, takes an image as input and tries to reconstruct it using a compressed latent representation (e.g., a latent representation requiring a fewer number of values than in the original image).\n",
    "\n",
    "In this notebook, we'll use the famous MNIST dataset for images of written numerical digits. We will first experiment with the implementation of an autoencoder with just one hidden layer. Finally, we will compare this with the results produced by an autoencoder with multiple layers.\n",
    "\n",
    "This activity is designed to help you apply the machine learning algorithms you have learned using the packages in `Python`. `Python` concepts, instructions, and starter code are embedded within this Jupyter Notebook to help guide you as you progress through the activity. Remember to run the code of each code cell prior to submitting the assignment. Upon completing the activity, we encourage you to compare your work against the solution file to perform a self-assessment.\n",
    "\n",
    "## Index:\n",
    "\n",
    "#### Week 3:  Autoencoders\n",
    "\n",
    "- [Part 1](#part1) - Autoencoders\n",
    "- [Part 2](#part2) - Setting up the Problem\n",
    "- [Part 3](#part3) - Single-Layer Autoencoder\n",
    "- [Part 4](#part4) - Multi-Layer Autoencoder"
   ]
  },
  {
   "cell_type": "markdown",
   "metadata": {},
   "source": [
    "[Back to top](#Index:) \n",
    "\n",
    "<a id='part1'></a>\n",
    "\n",
    "# Autoencoders <a></a>\n",
    "\n",
    "We can consider autoencoders as an unsupervised learning technique, because you don’t need explicit labels to train the model on. All you need to train an autoencoder is raw input data.\n",
    "\n",
    "As you've read in the introduction, an autoencoder is an unsupervised machine learning algorithm that takes an input and tries to reconstruct it using a fewer number of bits from the bottleneck, also known as the latent space. The image is maximally compressed at the bottleneck. The compression in autoencoders is achieved by training the network for a period of time - as it learns, it tries to best represent the input image at the bottleneck. \n",
    "\n",
    "Autoencoders work by using a dimensionality reduction technique. They project the data from a higher dimension to a lower dimension using a linear transformation and try to preserve the important features of the data while removing the non-essential parts.\n",
    "\n",
    "Now that you have a bit of understanding about autoencoders, let's have a closer look at their structure.\n",
    "\n",
    "<img src=\"images/encoder.png\" alt=\"Drawing\" style=\"width: 400px;\"/>\n",
    "\n",
    "The figure above represents a two-layer simplified autoencoder with one hidden layer. In deep learning terminology, you'll often notice that the input layer is never taken into account while counting the total number of layers in an architecture. In general, the total number of layers in an architecture only comprises the number of hidden layers and the ouput layer.\n",
    "\n",
    "As shown in the image above, the input and output layers have the same number of neurons.\n",
    "\n",
    "Let's take an example. You feed an image with just five pixel values into the autoencoder. The encoder then compresses the image into three values (vector $z$) at the bottleneck (middle layer) or latent space. Using these three values, the decoder tries to reconstruct (output) five pixel values that are as close as possible to the values in the original image which you fed as an input to the network.\n",
    "\n",
    "Of course, in typical practice, there are often a larger number of hidden layers in between the input and the output.\n",
    "\n",
    "<img src=\"images/multiple.png\" alt=\"Drawing\" style=\"width: 600px;\"/>\n",
    "\n",
    "### Encoder vs. Decoder\n",
    "\n",
    "The autoencoder has three parts:\n",
    "\n",
    "- The **Encoder** compresses or downsamples the input into a fewer number of values. The space represented by these smaller number of values is often called the latent space or bottleneck. \n",
    "\n",
    "- **The bottleneck** is also called the \"maximum point of compression\" since, at this point, the input is compressed the most. These compressed values that represent the original input are together called as “encoding” of the input.\n",
    "\n",
    "- The **Decoder** tries to reconstruct the input using only the encoding of the input. When the decoder is able to reconstruct the input exactly as it was fed to the encoder, the encoder can then produce the best encodings for the input with which the decoder is able to reconstruct well!"
   ]
  },
  {
   "cell_type": "markdown",
   "metadata": {},
   "source": [
    "## Convolutional Autoencoders in Python with Keras\n",
    "\n",
    "Since we're going to work with images,  it's a good idea to use a convolutional autoencoder. This is a traditional autoencoder where each layer is a convolutional layer: we basically replace fully connected layers with convolutional layers. \n",
    "\n",
    "[Back to top](#Index:) \n",
    "\n",
    "<a id='part2'></a>\n",
    "\n",
    "## Setting up the Problem <a></a>\n",
    "\n",
    "The classic [`MNIST`](https://en.wikipedia.org/wiki/MNIST_database) dataset is a large database of handwritten digits commonly used for training various image processing systems. It contains images of handwritten digits 0 through 9  normalized to fit into a 28x28 pixel bounding box.\n",
    "\n",
    "For this exercise, we will use the library [`Keras`](https://keras.io). `Keras`  is an open-source software library that provides a Python interface for artificial neural networks. Keras acts as an interface for the `TensorFlow` library. [`TensorFlow`](https://www.tensorflow.org) is a free and open-source software library for machine learning. While it can be used across a range of tasks, it focuses on training and inference of deep neural networks."
   ]
  },
  {
   "cell_type": "markdown",
   "metadata": {},
   "source": [
    "The MNIST dataset can be conveniently imported through `Keras`. \n",
    "\n",
    "Run the code cell below to import some of the libraries we will use in this exercise."
   ]
  },
  {
   "cell_type": "code",
   "execution_count": 1,
   "metadata": {},
   "outputs": [],
   "source": [
    "from keras.datasets import mnist\n",
    "import numpy as np\n",
    "from matplotlib import pyplot as plt"
   ]
  },
  {
   "cell_type": "markdown",
   "metadata": {},
   "source": [
    "The MNIST dataset comprises 70,000 28X28 pixels images of handwritten digits and 70,000 vectors containing information on which digit each one is. The image training data is scaled from [0, 255] to [0,1] to allow for use of the sigmoid activation function.\n",
    "\n",
    "Run the code cell below to import and scale the data."
   ]
  },
  {
   "cell_type": "code",
   "execution_count": 2,
   "metadata": {},
   "outputs": [
    {
     "name": "stdout",
     "output_type": "stream",
     "text": [
      "Downloading data from https://storage.googleapis.com/tensorflow/tf-keras-datasets/mnist.npz\n",
      "11493376/11490434 [==============================] - 4s 0us/step\n",
      "11501568/11490434 [==============================] - 4s 0us/step\n"
     ]
    }
   ],
   "source": [
    "(X_train, y_train), (X_test, y_train) = mnist.load_data()\n",
    "X_train = X_train.astype('float32') / 255.0\n",
    "X_test = X_test.astype('float32') / 255.0"
   ]
  },
  {
   "cell_type": "markdown",
   "metadata": {},
   "source": [
    "To check our data, we’ll plot the first image in the training dataset.\n",
    "\n",
    "In the code cell below, fill in the ellipsis by passing the correct index to retrieve the desired image. Keep in mind that `Python` starts counting from 0!"
   ]
  },
  {
   "cell_type": "code",
   "execution_count": 3,
   "metadata": {},
   "outputs": [
    {
     "data": {
      "text/plain": [
       "<matplotlib.image.AxesImage at 0x7f5ed54cc050>"
      ]
     },
     "execution_count": 3,
     "metadata": {},
     "output_type": "execute_result"
    },
    {
     "data": {
      "image/png": "[encoded data removed]",
      "text/plain": [
       "<Figure size 432x288 with 1 Axes>"
      ]
     },
     "metadata": {
      "needs_background": "light"
     },
     "output_type": "display_data"
    }
   ],
   "source": [
    "# Plot image data from x_train\n",
    "plt.imshow(X_train[0], cmap = \"gray\")"
   ]
  },
  {
   "cell_type": "markdown",
   "metadata": {},
   "source": [
    "**Question**\n",
    "\n",
    "What number is represented in the first image?"
   ]
  },
  {
   "cell_type": "markdown",
   "metadata": {},
   "source": [
    "5\n",
    "\n"
   ]
  },
  {
   "cell_type": "markdown",
   "metadata": {},
   "source": [
    "[Back to top](#Index:) \n",
    "\n",
    "<a id='part3'></a>\n",
    "\n",
    "## Single-Layer Autoencoder <a></a>\n",
    "\n",
    "We start by considering a simple autoencoder with only one hidden layer.\n",
    "\n",
    "We know that our data comes in 28X28 pixel format. Run the code cell below to verify this."
   ]
  },
  {
   "cell_type": "code",
   "execution_count": 4,
   "metadata": {},
   "outputs": [
    {
     "name": "stdout",
     "output_type": "stream",
     "text": [
      "(60000, 28, 28)\n",
      "(10000, 28, 28)\n"
     ]
    }
   ],
   "source": [
    "print(X_train.shape)\n",
    "print(X_test.shape)"
   ]
  },
  {
   "cell_type": "markdown",
   "metadata": {},
   "source": [
    "We start by reshaping our `X` data in a convenient format for our model by flattening our images into a 28X28 = 784 array."
   ]
  },
  {
   "cell_type": "code",
   "execution_count": 25,
   "metadata": {},
   "outputs": [],
   "source": [
    "X_train = X_train.reshape((len(X_train), np.prod(X_train.shape[1:])))\n",
    "X_test = X_test.reshape((len(X_test), np.prod(X_test.shape[1:])))"
   ]
  },
  {
   "cell_type": "code",
   "execution_count": 8,
   "metadata": {},
   "outputs": [
    {
     "data": {
      "text/plain": [
       "784"
      ]
     },
     "execution_count": 8,
     "metadata": {},
     "output_type": "execute_result"
    }
   ],
   "source": [
    "28*28"
   ]
  },
  {
   "cell_type": "markdown",
   "metadata": {},
   "source": [
    "Following what we did above, print the shape of the reshaped data."
   ]
  },
  {
   "cell_type": "code",
   "execution_count": 6,
   "metadata": {},
   "outputs": [
    {
     "name": "stdout",
     "output_type": "stream",
     "text": [
      "(60000, 784)\n",
      "(10000, 784)\n"
     ]
    }
   ],
   "source": [
    "print(X_train.shape)\n",
    "print(X_test.shape)\n"
   ]
  },
  {
   "cell_type": "markdown",
   "metadata": {},
   "source": [
    "### Defining the Autoencoder\n",
    "\n",
    "We're now ready to define our autoencoder.\n",
    "\n",
    "In the code cell below, assign to the variable `input_size` the dimension of the reshaped `X` data. \n",
    "\n",
    "Next, we set the size of the bottleneck representation (the output of the encoder), as `latent_size` equal to 10."
   ]
  },
  {
   "cell_type": "code",
   "execution_count": 15,
   "metadata": {},
   "outputs": [],
   "source": [
    "input_size = (784)\n",
    "\n",
    "latent_size = 32"
   ]
  },
  {
   "cell_type": "markdown",
   "metadata": {},
   "source": [
    "Finally, we are ready to define the various parts that constitute the autoencoder.\n",
    "\n",
    "Run the code cell below to import the necessary libraries and modules."
   ]
  },
  {
   "cell_type": "code",
   "execution_count": 16,
   "metadata": {},
   "outputs": [],
   "source": [
    "from keras.models import Model\n",
    "from keras.layers import Dense, Input"
   ]
  },
  {
   "cell_type": "markdown",
   "metadata": {},
   "source": [
    "In the code cell below, we define the input for our model with the appropriate shape.\n",
    "\n",
    "Next, we need to define how to encode the input. This can be done with the help of the function `Dense` which takes, as argument, the size of the desired output and the type of activation - in this case, ReLu. The second set of brackets here indicates what we want to encode (the input image).\n",
    "\n",
    "We also define how to decode the output. Again, here we use the function `Dense` with the size of the input and a sigmoid activation function. The second set of brackets here says the we want to decode the encoded image (i.e., that latent representation)."
   ]
  },
  {
   "cell_type": "code",
   "execution_count": 17,
   "metadata": {},
   "outputs": [],
   "source": [
    "input_img = Input(shape=(input_size,)) # input\n",
    "\n",
    "latent_rep = Dense(latent_size, activation='relu')(input_img) #encoding definition\n",
    "\n",
    "output_img = Dense(input_size, activation='sigmoid')(latent_rep) #decoding definition"
   ]
  },
  {
   "cell_type": "markdown",
   "metadata": {},
   "source": [
    "As the last step, we want to initialize and run our model.\n",
    "\n",
    "In the code cell below, we define our autoencoder, compile it and fit it to our model.\n",
    "\n",
    "In the function `compile`, fill in the ellipssis by setting the argument `optimize` equal to `\"adam\"`.\n",
    "\n",
    "Finally, set the number of `epochs` equal to 5.\n",
    "\n",
    "When you are done, run the code cell below to start your model!"
   ]
  },
  {
   "cell_type": "code",
   "execution_count": 18,
   "metadata": {
    "scrolled": false
   },
   "outputs": [
    {
     "name": "stdout",
     "output_type": "stream",
     "text": [
      "Epoch 1/5\n",
      "1875/1875 [==============================] - 5s 2ms/step - loss: 0.1612\n",
      "Epoch 2/5\n",
      "1875/1875 [==============================] - 4s 2ms/step - loss: 0.1029\n",
      "Epoch 3/5\n",
      "1875/1875 [==============================] - 4s 2ms/step - loss: 0.0960\n",
      "Epoch 4/5\n",
      "1875/1875 [==============================] - 4s 2ms/step - loss: 0.0948\n",
      "Epoch 5/5\n",
      "1875/1875 [==============================] - 4s 2ms/step - loss: 0.0943\n"
     ]
    },
    {
     "data": {
      "text/plain": [
       "<keras.callbacks.History at 0x7f5e798aba50>"
      ]
     },
     "execution_count": 18,
     "metadata": {},
     "output_type": "execute_result"
    }
   ],
   "source": [
    "autoencoder = Model(input_img, output_img)\n",
    "\n",
    "autoencoder.compile(optimizer='adam', loss='binary_crossentropy')\n",
    "\n",
    "\n",
    "\n",
    "autoencoder.fit(X_train, X_train, epochs=5)"
   ]
  },
  {
   "cell_type": "markdown",
   "metadata": {},
   "source": [
    "### Visualizing our Results\n",
    "\n",
    "In this section, we want to see how well our autoencoder did.\n",
    "\n",
    "In the code cell below, we have defined an auxiliary function to visualize our results. The first part of the function plots the original data from the dataset, and the second one displays the autoencoded images.\n",
    "\n",
    "Run the code cell below to define our plotting function."
   ]
  },
  {
   "cell_type": "code",
   "execution_count": 19,
   "metadata": {},
   "outputs": [],
   "source": [
    "def plot_autoencoder_outputs(autoencoder, n, dims):\n",
    "    decoded_imgs = autoencoder.predict(X_test)\n",
    "\n",
    "    # number of example digits to show\n",
    "    n = 5\n",
    "    plt.figure(figsize=(10, 4.5))\n",
    "    for i in range(n):\n",
    "        # plot original image\n",
    "        ax = plt.subplot(2, n, i + 1)\n",
    "        plt.imshow(X_test[i].reshape(*dims))\n",
    "        plt.gray()\n",
    "        if i == n/2:\n",
    "            ax.set_title('Original Images')\n",
    "\n",
    "        # plot reconstruction \n",
    "        ax = plt.subplot(2, n, i + 1 + n)\n",
    "        plt.imshow(decoded_imgs[i].reshape(*dims))\n",
    "        plt.gray()\n",
    "        if i == n/2:\n",
    "            ax.set_title('Reconstructed Images')\n",
    "    plt.show()"
   ]
  },
  {
   "cell_type": "markdown",
   "metadata": {},
   "source": [
    "Finally, run the code cell below to visualize the results."
   ]
  },
  {
   "cell_type": "code",
   "execution_count": 20,
   "metadata": {},
   "outputs": [
    {
     "data": {
      "image/png": "[encoded data removed]",
      "text/plain": [
       "<Figure size 720x324 with 10 Axes>"
      ]
     },
     "metadata": {
      "needs_background": "light"
     },
     "output_type": "display_data"
    }
   ],
   "source": [
    "plot_autoencoder_outputs(autoencoder, 5, (28, 28))"
   ]
  },
  {
   "cell_type": "markdown",
   "metadata": {},
   "source": [
    "The results are not great; for example, the reconstructed \"2\" looks somewhat like a \"3\", and the reconstructred \"4\" looks somewhat like a \"9\".\n",
    "\n",
    "**Question**\n",
    "\n",
    "What do you think would happen to the results if you increased the `latent_size` above, say to 32? Feel free to experiment with the code above."
   ]
  },
  {
   "cell_type": "markdown",
   "metadata": {},
   "source": [
    "the results get much better as the latent size gets larger\n"
   ]
  },
  {
   "cell_type": "markdown",
   "metadata": {},
   "source": [
    "[Back to top](#Index:) \n",
    "\n",
    "<a id='part4'></a>\n",
    "\n",
    "# Multi-Layer Autoencoder <a></a>\n",
    "    \n",
    "In the final part of this activity, we will redefine our encoder to have multiple layers. This is usually what happens in real life.\n",
    "\n",
    "In the code cell below, we define the input and output size as above. Note that in addition, we also define the size of the hidden layers in each of the multilayer encoder and decoder, as `hidden_size`.\n",
    "\n",
    "Here we return to the smaller `latent_size`, to see how the more complex encoder and decoder might work, even with the smaller sized bottleneck."
   ]
  },
  {
   "cell_type": "code",
   "execution_count": 29,
   "metadata": {},
   "outputs": [],
   "source": [
    "input_size = 784\n",
    "hidden_size = 128\n",
    "latent_size = 32"
   ]
  },
  {
   "cell_type": "markdown",
   "metadata": {},
   "source": [
    "Next, in a similar way as we did above, we use the function `Dense` to define the various layers. Note that we now have multiple (2) hidden layers that use a ReLU function as activation."
   ]
  },
  {
   "cell_type": "code",
   "execution_count": 30,
   "metadata": {},
   "outputs": [],
   "source": [
    "input_img = Input(shape=(input_size,))\n",
    "hidden_1 = Dense(hidden_size, activation='relu')(input_img)\n",
    "latent_rep = Dense(latent_size, activation='relu')(hidden_1)\n",
    "hidden_2 = Dense(hidden_size, activation='relu')(latent_rep)\n",
    "output_img = Dense(input_size, activation='sigmoid')(hidden_2)"
   ]
  },
  {
   "cell_type": "markdown",
   "metadata": {},
   "source": [
    "As a last step, as we did above, we want to define our autoencoder, compile it and fit it to our model.\n",
    "\n",
    "In the function `compile`, fill in the ellipsis by setting the argument `optimize` equal to `\"adam\"`.\n",
    "\n",
    "Finally, set the number of `epochs` equal to 5, the same as with the single layer autoencoder.\n",
    "\n",
    "When you are done, run the code cell below to start your model!"
   ]
  },
  {
   "cell_type": "code",
   "execution_count": 31,
   "metadata": {},
   "outputs": [
    {
     "name": "stdout",
     "output_type": "stream",
     "text": [
      "Epoch 1/5\n",
      "1875/1875 [==============================] - 7s 4ms/step - loss: 0.1379\n",
      "Epoch 2/5\n",
      "1875/1875 [==============================] - 8s 4ms/step - loss: 0.0989\n",
      "Epoch 3/5\n",
      "1875/1875 [==============================] - 7s 4ms/step - loss: 0.0932\n",
      "Epoch 4/5\n",
      "1875/1875 [==============================] - 7s 4ms/step - loss: 0.0904\n",
      "Epoch 5/5\n",
      "1875/1875 [==============================] - 7s 4ms/step - loss: 0.0887\n"
     ]
    },
    {
     "data": {
      "text/plain": [
       "<keras.callbacks.History at 0x7f5e78a5a210>"
      ]
     },
     "execution_count": 31,
     "metadata": {},
     "output_type": "execute_result"
    }
   ],
   "source": [
    "autoencoder = Model(input_img, output_img)\n",
    "\n",
    "autoencoder.compile(optimizer='adam', loss='binary_crossentropy')\n",
    "\n",
    "autoencoder.fit(X_train, X_train, epochs=5)\n"
   ]
  },
  {
   "cell_type": "markdown",
   "metadata": {},
   "source": [
    "Finally, we use the same auxiliary plotting function to see how well we did."
   ]
  },
  {
   "cell_type": "code",
   "execution_count": 32,
   "metadata": {
    "scrolled": true
   },
   "outputs": [
    {
     "data": {
      "image/png": "[encoded data removed]",
      "text/plain": [
       "<Figure size 720x324 with 10 Axes>"
      ]
     },
     "metadata": {
      "needs_background": "light"
     },
     "output_type": "display_data"
    }
   ],
   "source": [
    "plot_autoencoder_outputs(autoencoder, 5, (28, 28))"
   ]
  },
  {
   "cell_type": "markdown",
   "metadata": {},
   "source": [
    "**Question**\n",
    "\n",
    "What difference do you notice compared to the output of the single-layer encoder? Can you justify them?\n",
    "\n"
   ]
  },
  {
   "cell_type": "markdown",
   "metadata": {},
   "source": [
    "Better results due to the presence of multiple layers,\n",
    "when enables a better encoding/decoding to and from the latent representation (even with the latent\n",
    "representation size being kept the same)"
   ]
  },
  {
   "cell_type": "code",
   "execution_count": null,
   "metadata": {},
   "outputs": [],
   "source": []
  }
 ],
 "metadata": {
  "kernelspec": {
   "display_name": "Python 3",
   "language": "python",
   "name": "python3"
  },
  "language_info": {
   "codemirror_mode": {
    "name": "ipython",
    "version": 3
   },
   "file_extension": ".py",
   "mimetype": "text/x-python",
   "name": "python",
   "nbconvert_exporter": "python",
   "pygments_lexer": "ipython3",
   "version": "3.7.4"
  }
 },
 "nbformat": 4,
 "nbformat_minor": 4
}
